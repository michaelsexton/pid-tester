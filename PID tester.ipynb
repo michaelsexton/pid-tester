{
 "cells": [
  {
   "cell_type": "code",
   "execution_count": 1,
   "metadata": {},
   "outputs": [],
   "source": [
    "import pandas as pd\n",
    "import cx_Oracle\n",
    "import yaml\n",
    "\n",
    "\n",
    "from table_mapping import mappings\n",
    "\n",
    "from pid_tester import tools"
   ]
  },
  {
   "cell_type": "code",
   "execution_count": 2,
   "metadata": {},
   "outputs": [],
   "source": [
    "ns = {'wfs': 'http://www.opengis.net/wfs/2.0',\n",
    "      'er': 'http://xmlns.earthresourceml.org/EarthResource/2.0',\n",
    "     'erl': 'http://xmlns.earthresourceml.org/earthresourceml-lite/1.0'}"
   ]
  },
  {
   "cell_type": "code",
   "execution_count": 3,
   "metadata": {},
   "outputs": [],
   "source": [
    "with open(\"/home/michael/Developer/database.yml\", 'r') as stream:\n",
    "    credentials = yaml.load(stream)"
   ]
  },
  {
   "cell_type": "code",
   "execution_count": 4,
   "metadata": {},
   "outputs": [],
   "source": [
    "oraprod = credentials['oraprod']"
   ]
  },
  {
   "cell_type": "code",
   "execution_count": 5,
   "metadata": {},
   "outputs": [],
   "source": [
    "connection = cx_Oracle.connect(user=oraprod[\"user\"],password=oraprod[\"password\"],dsn=oraprod[\"dsn\"])\n"
   ]
  },
  {
   "cell_type": "code",
   "execution_count": null,
   "metadata": {},
   "outputs": [],
   "source": [
    "for mapping in mappings:\n",
    "    table = mapping['table']\n",
    "    query = tools.get_query(table)\n",
    "    print(query)\n",
    "    df = pd.read_sql(query, connection)\n",
    "    pids = mapping['pids']\n",
    "    for pid, feature_type in pids.items():\n",
    "        print(\"Resolving {0} ...\".format(pid))\n",
    "        resolve_column = '{0}_CHECK'.format(pid)\n",
    "        df[resolve_column] = df[pid].apply(lambda x: tools.resolve_pid(x,feature_type,ns)).apply(pd.Series)\n",
    "    vocabs = mapping['vocabs']\n",
    "    #for vocab in vocabs:\n",
    "    #    resolve_column = '{0}_CHECK'.format(vocab)\n",
    "    #    df[resolve_column] = df[vocab].apply(tools.resolve_vocab(vocab))\n",
    "    filename = \"{0}.xlsx\".format(table)\n",
    "    print(\"Saving {0} ...\".format(table))\n",
    "    if 'SHAPE' in df.columns:\n",
    "        df.drop(['SHAPE'], axis = 1,inplace=True)\n",
    "    df.to_excel(filename)   \n",
    "    "
   ]
  },
  {
   "cell_type": "code",
   "execution_count": null,
   "metadata": {},
   "outputs": [],
   "source": []
  }
 ],
 "metadata": {
  "kernelspec": {
   "display_name": "Python 3",
   "language": "python",
   "name": "python3"
  },
  "language_info": {
   "codemirror_mode": {
    "name": "ipython",
    "version": 3
   },
   "file_extension": ".py",
   "mimetype": "text/x-python",
   "name": "python",
   "nbconvert_exporter": "python",
   "pygments_lexer": "ipython3",
   "version": "3.6.3"
  }
 },
 "nbformat": 4,
 "nbformat_minor": 2
}
